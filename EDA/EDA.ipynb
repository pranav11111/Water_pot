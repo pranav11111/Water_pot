{
 "cells": [
  {
   "cell_type": "code",
   "execution_count": 29,
   "metadata": {},
   "outputs": [],
   "source": [
    "import pandas as pd\n",
    "import numpy as np\n",
    "import matplotlib.pyplot as plt\n",
    "import seaborn as sns\n",
    "from sklearn.compose import ColumnTransformer\n",
    "from sklearn.pipeline import Pipeline\n",
    "from preprocessing.utils import clean_data,outlier_treatment,save_object\n",
    "from sklearn.impute import SimpleImputer\n",
    "import re\n",
    "from sklearn.preprocessing import MinMaxScaler\n",
    "from sklearn.model_selection import GridSearchCV,train_test_split\n",
    "from sklearn.tree import DecisionTreeClassifier\n",
    "from sklearn.ensemble import RandomForestClassifier\n",
    "from src.exception import CustomException\n",
    "from src.logger import logging\n",
    "import sys"
   ]
  },
  {
   "cell_type": "code",
   "execution_count": 15,
   "metadata": {},
   "outputs": [],
   "source": [
    "data = pd.read_csv(r\"C:\\Users\\Pranav\\Desktop\\Data Science\\MLOps\\Data\\water_potability.csv\", encoding = 'unicode_escape')"
   ]
  },
  {
   "cell_type": "code",
   "execution_count": 16,
   "metadata": {},
   "outputs": [
    {
     "data": {
      "text/html": [
       "<div>\n",
       "<style scoped>\n",
       "    .dataframe tbody tr th:only-of-type {\n",
       "        vertical-align: middle;\n",
       "    }\n",
       "\n",
       "    .dataframe tbody tr th {\n",
       "        vertical-align: top;\n",
       "    }\n",
       "\n",
       "    .dataframe thead th {\n",
       "        text-align: right;\n",
       "    }\n",
       "</style>\n",
       "<table border=\"1\" class=\"dataframe\">\n",
       "  <thead>\n",
       "    <tr style=\"text-align: right;\">\n",
       "      <th></th>\n",
       "      <th>ph</th>\n",
       "      <th>Hardness</th>\n",
       "      <th>Solids</th>\n",
       "      <th>Chloramines</th>\n",
       "      <th>Sulfate</th>\n",
       "      <th>Conductivity</th>\n",
       "      <th>Organic_carbon</th>\n",
       "      <th>Trihalomethanes</th>\n",
       "      <th>Turbidity</th>\n",
       "      <th>Potability</th>\n",
       "    </tr>\n",
       "  </thead>\n",
       "  <tbody>\n",
       "    <tr>\n",
       "      <th>0</th>\n",
       "      <td>NaN</td>\n",
       "      <td>204.8904555</td>\n",
       "      <td>20791.31898</td>\n",
       "      <td>7.300211873</td>\n",
       "      <td>368.516441</td>\n",
       "      <td>564.3086542</td>\n",
       "      <td>10.37978308</td>\n",
       "      <td>86.99097046</td>\n",
       "      <td>2.963135381</td>\n",
       "      <td>0</td>\n",
       "    </tr>\n",
       "    <tr>\n",
       "      <th>1</th>\n",
       "      <td>3.716080075</td>\n",
       "      <td>129.4229205</td>\n",
       "      <td>18630.05786</td>\n",
       "      <td>6.635245884</td>\n",
       "      <td>NaN</td>\n",
       "      <td>592.8853591</td>\n",
       "      <td>15.18001312</td>\n",
       "      <td>56.32907628</td>\n",
       "      <td>4.500656275</td>\n",
       "      <td>0</td>\n",
       "    </tr>\n",
       "    <tr>\n",
       "      <th>2</th>\n",
       "      <td>8.099124189</td>\n",
       "      <td>224.2362594</td>\n",
       "      <td>19909.54173</td>\n",
       "      <td>9.275883603</td>\n",
       "      <td>NaN</td>\n",
       "      <td>418.6062131</td>\n",
       "      <td>16.86863693</td>\n",
       "      <td>66.42009251</td>\n",
       "      <td>3.05593375</td>\n",
       "      <td>0</td>\n",
       "    </tr>\n",
       "    <tr>\n",
       "      <th>3</th>\n",
       "      <td>8.316765884</td>\n",
       "      <td>214.3733941</td>\n",
       "      <td>22018.41744</td>\n",
       "      <td>8.059332377</td>\n",
       "      <td>356.886136</td>\n",
       "      <td>363.2665162</td>\n",
       "      <td>18.4365245</td>\n",
       "      <td>100.3416744</td>\n",
       "      <td>4.628770537</td>\n",
       "      <td>0</td>\n",
       "    </tr>\n",
       "    <tr>\n",
       "      <th>4</th>\n",
       "      <td>9.092223456</td>\n",
       "      <td>181.1015092</td>\n",
       "      <td>17978.98634</td>\n",
       "      <td>6.546599974</td>\n",
       "      <td>310.135738</td>\n",
       "      <td>398.4108134</td>\n",
       "      <td>11.55827944</td>\n",
       "      <td>31.99799273</td>\n",
       "      <td>4.075075425</td>\n",
       "      <td>0</td>\n",
       "    </tr>\n",
       "  </tbody>\n",
       "</table>\n",
       "</div>"
      ],
      "text/plain": [
       "            ph     Hardness       Solids  Chloramines     Sulfate  \\\n",
       "0          NaN  204.8904555  20791.31898  7.300211873  368.516441   \n",
       "1  3.716080075  129.4229205  18630.05786  6.635245884         NaN   \n",
       "2  8.099124189  224.2362594  19909.54173  9.275883603         NaN   \n",
       "3  8.316765884  214.3733941  22018.41744  8.059332377  356.886136   \n",
       "4  9.092223456  181.1015092  17978.98634  6.546599974  310.135738   \n",
       "\n",
       "  Conductivity Organic_carbon Trihalomethanes    Turbidity  Potability  \n",
       "0  564.3086542    10.37978308     86.99097046  2.963135381           0  \n",
       "1  592.8853591    15.18001312     56.32907628  4.500656275           0  \n",
       "2  418.6062131    16.86863693     66.42009251   3.05593375           0  \n",
       "3  363.2665162     18.4365245     100.3416744  4.628770537           0  \n",
       "4  398.4108134    11.55827944     31.99799273  4.075075425           0  "
      ]
     },
     "execution_count": 16,
     "metadata": {},
     "output_type": "execute_result"
    }
   ],
   "source": [
    "data.head()"
   ]
  },
  {
   "cell_type": "code",
   "execution_count": 17,
   "metadata": {},
   "outputs": [
    {
     "data": {
      "text/plain": [
       "ph                 491\n",
       "Hardness             0\n",
       "Solids               0\n",
       "Chloramines          0\n",
       "Sulfate            781\n",
       "Conductivity         0\n",
       "Organic_carbon       0\n",
       "Trihalomethanes    162\n",
       "Turbidity            0\n",
       "Potability           0\n",
       "dtype: int64"
      ]
     },
     "execution_count": 17,
     "metadata": {},
     "output_type": "execute_result"
    }
   ],
   "source": [
    "data.isnull().sum()"
   ]
  },
  {
   "cell_type": "code",
   "execution_count": 18,
   "metadata": {},
   "outputs": [
    {
     "name": "stdout",
     "output_type": "stream",
     "text": [
      "<class 'pandas.core.frame.DataFrame'>\n",
      "RangeIndex: 3276 entries, 0 to 3275\n",
      "Data columns (total 10 columns):\n",
      " #   Column           Non-Null Count  Dtype  \n",
      "---  ------           --------------  -----  \n",
      " 0   ph               2785 non-null   object \n",
      " 1   Hardness         3276 non-null   object \n",
      " 2   Solids           3276 non-null   object \n",
      " 3   Chloramines      3276 non-null   object \n",
      " 4   Sulfate          2495 non-null   float64\n",
      " 5   Conductivity     3276 non-null   object \n",
      " 6   Organic_carbon   3276 non-null   object \n",
      " 7   Trihalomethanes  3114 non-null   object \n",
      " 8   Turbidity        3276 non-null   object \n",
      " 9   Potability       3276 non-null   int64  \n",
      "dtypes: float64(1), int64(1), object(8)\n",
      "memory usage: 256.1+ KB\n"
     ]
    }
   ],
   "source": [
    "data.info()"
   ]
  },
  {
   "cell_type": "code",
   "execution_count": 19,
   "metadata": {},
   "outputs": [],
   "source": [
    "def get_non_numeric(series):\n",
    "    non_num_elems = []\n",
    "    for elem in series:\n",
    "        try:\n",
    "            float(elem)\n",
    "        except:\n",
    "            non_num_elems.append(elem)\n",
    "    return non_num_elems\n",
    "            "
   ]
  },
  {
   "cell_type": "code",
   "execution_count": 20,
   "metadata": {},
   "outputs": [
    {
     "name": "stdout",
     "output_type": "stream",
     "text": [
      "*******************************\n",
      "In column ph the non numeric elements are\n",
      "['7.-.160467231']\n",
      "*******************************\n",
      "*******************************\n",
      "In column Hardness the non numeric elements are\n",
      "['214.496610%457156', \"20''9.609618\"]\n",
      "*******************************\n",
      "*******************************\n",
      "In column Solids the non numeric elements are\n",
      "['18767.656--18134', '172.>66.59342', '2(9368.6741)8', ' ? 29,477.76 ', ' ? 24,967.32 ', ' ? 26,631.21 ', ' ? 24,539.71 ', ' ? 20,864.34 ', ' ? 16,879.52 ', ' ? 16,488.02 ', ' ? 11,351.86 ']\n",
      "*******************************\n",
      "*******************************\n",
      "In column Chloramines the non numeric elements are\n",
      "['2.39798!499', '2.10269!09!91']\n",
      "*******************************\n",
      "*******************************\n",
      "In column Sulfate the non numeric elements are\n",
      "[]\n",
      "*******************************\n",
      "*******************************\n",
      "In column Conductivity the non numeric elements are\n",
      "['52,,,3.6712975', '323.794---624']\n",
      "*******************************\n",
      "*******************************\n",
      "In column Organic_carbon the non numeric elements are\n",
      "[' ¥12.38 ', ' ¥11.12 ', ' ¥14.93 ', ' ¥13.35 ', ' ¥11.35 ', ' ¥16.05 ', ' ¥17.29 ', ' ¥9.80 ', ' ¥9.00 ', ' ¥14.08 ', ' ¥18.70 ', ' ¥15.77 ', ' ¥13.93 ', ' ¥9.71 ', ' ¥14.57 ', ' ¥16.25 ', ' ¥8.99 ', ' ¥15.61 ', ' ¥18.10 ', ' ¥11.53 ', ' ¥12.26 ', ' ¥9.83 ', ' ¥7.51 ', ' ¥13.86 ', ' ¥15.97 ', ' ¥9.35 ', ' ¥13.55 ', ' ¥11.87 ', ' ¥9.23 ', ' ¥19.27 ', ' ¥16.15 ', ' ¥9.39 ', ' ¥15.84 ', ' ¥10.66 ', ' ¥14.86 ', ' ¥13.64 ', ' ¥10.21 ', ' ¥13.48 ', ' ¥18.15 ', ' ¥21.85 ', ' ¥17.70 ', ' ¥13.17 ', ' ¥17.08 ', ' ¥11.62 ', ' ¥7.94 ', ' ¥14.64 ', ' ¥17.21 ', ' ¥14.17 ', ' ¥6.06 ', ' ¥17.49 ', ' ¥18.21 ', ' ¥16.83 ', ' ¥13.45 ', ' ¥17.15 ', ' ¥16.13 ', ' ¥13.37 ', ' ¥14.67 ', ' ¥18.40 ', ' ¥18.60 ', ' ¥9.58 ', ' ¥16.24 ', ' ¥16.27 ', ' ¥6.58 ']\n",
      "*******************************\n",
      "*******************************\n",
      "In column Trihalomethanes the non numeric elements are\n",
      "['70.1906$£\"2482']\n",
      "*******************************\n",
      "*******************************\n",
      "In column Turbidity the non numeric elements are\n",
      "['3.873**470298', '3.37745oo0524']\n",
      "*******************************\n",
      "*******************************\n",
      "In column Potability the non numeric elements are\n",
      "[]\n",
      "*******************************\n"
     ]
    }
   ],
   "source": [
    "for i in data.columns:\n",
    "    non_num = get_non_numeric(data[i])\n",
    "    print('*******************************')\n",
    "    print('In column {} the non numeric elements are'.format(i) )\n",
    "    print(non_num)\n",
    "    print('*******************************')"
   ]
  },
  {
   "cell_type": "code",
   "execution_count": 21,
   "metadata": {},
   "outputs": [
    {
     "name": "stdout",
     "output_type": "stream",
     "text": [
      "<class 'pandas.core.frame.DataFrame'>\n",
      "RangeIndex: 3276 entries, 0 to 3275\n",
      "Data columns (total 10 columns):\n",
      " #   Column           Non-Null Count  Dtype  \n",
      "---  ------           --------------  -----  \n",
      " 0   ph               2785 non-null   object \n",
      " 1   Hardness         3276 non-null   object \n",
      " 2   Solids           3276 non-null   object \n",
      " 3   Chloramines      3276 non-null   object \n",
      " 4   Sulfate          2495 non-null   float64\n",
      " 5   Conductivity     3276 non-null   object \n",
      " 6   Organic_carbon   3276 non-null   object \n",
      " 7   Trihalomethanes  3114 non-null   object \n",
      " 8   Turbidity        3276 non-null   object \n",
      " 9   Potability       3276 non-null   int64  \n",
      "dtypes: float64(1), int64(1), object(8)\n",
      "memory usage: 256.1+ KB\n"
     ]
    }
   ],
   "source": [
    "data.info()\n"
   ]
  },
  {
   "cell_type": "code",
   "execution_count": 22,
   "metadata": {},
   "outputs": [
    {
     "name": "stdout",
     "output_type": "stream",
     "text": [
      "<class 'pandas.core.frame.DataFrame'>\n",
      "RangeIndex: 3276 entries, 0 to 3275\n",
      "Data columns (total 10 columns):\n",
      " #   Column           Non-Null Count  Dtype  \n",
      "---  ------           --------------  -----  \n",
      " 0   ph               2784 non-null   float64\n",
      " 1   Hardness         3274 non-null   float64\n",
      " 2   Solids           3275 non-null   float64\n",
      " 3   Chloramines      3274 non-null   float64\n",
      " 4   Sulfate          2495 non-null   float64\n",
      " 5   Conductivity     3274 non-null   float64\n",
      " 6   Organic_carbon   3276 non-null   float64\n",
      " 7   Trihalomethanes  3113 non-null   float64\n",
      " 8   Turbidity        3274 non-null   float64\n",
      " 9   Potability       3276 non-null   int64  \n",
      "dtypes: float64(9), int64(1)\n",
      "memory usage: 256.1 KB\n"
     ]
    }
   ],
   "source": [
    "\n",
    "def clean_out(df:pd.DataFrame):\n",
    "\n",
    "        df['Solids']  = df['Solids'].apply(clean_data)\n",
    "        df['Organic_carbon'] = df['Organic_carbon'].apply(clean_data)\n",
    "\n",
    "        for i in df.columns:\n",
    "            df[i] = pd.to_numeric(df[i],errors= 'coerce')\n",
    "\n",
    "        \n",
    "\n",
    "        return df\n",
    "\n",
    "data = clean_out(df= data)\n",
    "data.info()"
   ]
  },
  {
   "cell_type": "code",
   "execution_count": 23,
   "metadata": {},
   "outputs": [
    {
     "ename": "TypeError",
     "evalue": "expected string or bytes-like object, got 'float'",
     "output_type": "error",
     "traceback": [
      "\u001b[1;31m---------------------------------------------------------------------------\u001b[0m",
      "\u001b[1;31mTypeError\u001b[0m                                 Traceback (most recent call last)",
      "Cell \u001b[1;32mIn[23], line 7\u001b[0m\n\u001b[0;32m      3\u001b[0m     text \u001b[38;5;241m=\u001b[39m re\u001b[38;5;241m.\u001b[39msub(\u001b[38;5;124mr\u001b[39m\u001b[38;5;124m\"\u001b[39m\u001b[38;5;124m[\u001b[39m\u001b[38;5;124m'\u001b[39m\u001b[38;5;124m \u001b[39m\u001b[38;5;124m'\u001b[39m\u001b[38;5;124m,()-->?¥]\u001b[39m\u001b[38;5;124m\"\u001b[39m,\u001b[38;5;124m\"\u001b[39m\u001b[38;5;124m\"\u001b[39m,text)\n\u001b[0;32m      4\u001b[0m     \u001b[38;5;28;01mreturn\u001b[39;00m text\n\u001b[1;32m----> 7\u001b[0m data[\u001b[38;5;124m'\u001b[39m\u001b[38;5;124mSolids\u001b[39m\u001b[38;5;124m'\u001b[39m]  \u001b[38;5;241m=\u001b[39m data[\u001b[38;5;124m'\u001b[39m\u001b[38;5;124mSolids\u001b[39m\u001b[38;5;124m'\u001b[39m]\u001b[38;5;241m.\u001b[39mapply(clean_data)\n\u001b[0;32m      8\u001b[0m data[\u001b[38;5;124m'\u001b[39m\u001b[38;5;124mOrganic_carbon\u001b[39m\u001b[38;5;124m'\u001b[39m] \u001b[38;5;241m=\u001b[39m data[\u001b[38;5;124m'\u001b[39m\u001b[38;5;124mOrganic_carbon\u001b[39m\u001b[38;5;124m'\u001b[39m]\u001b[38;5;241m.\u001b[39mapply(clean_data)\n\u001b[0;32m     10\u001b[0m \u001b[38;5;28;01mfor\u001b[39;00m i \u001b[38;5;129;01min\u001b[39;00m data\u001b[38;5;241m.\u001b[39mcolumns:\n",
      "File \u001b[1;32mc:\\Users\\Pranav\\anaconda3\\Lib\\site-packages\\pandas\\core\\series.py:4764\u001b[0m, in \u001b[0;36mSeries.apply\u001b[1;34m(self, func, convert_dtype, args, by_row, **kwargs)\u001b[0m\n\u001b[0;32m   4629\u001b[0m \u001b[38;5;28;01mdef\u001b[39;00m \u001b[38;5;21mapply\u001b[39m(\n\u001b[0;32m   4630\u001b[0m     \u001b[38;5;28mself\u001b[39m,\n\u001b[0;32m   4631\u001b[0m     func: AggFuncType,\n\u001b[1;32m   (...)\u001b[0m\n\u001b[0;32m   4636\u001b[0m     \u001b[38;5;241m*\u001b[39m\u001b[38;5;241m*\u001b[39mkwargs,\n\u001b[0;32m   4637\u001b[0m ) \u001b[38;5;241m-\u001b[39m\u001b[38;5;241m>\u001b[39m DataFrame \u001b[38;5;241m|\u001b[39m Series:\n\u001b[0;32m   4638\u001b[0m \u001b[38;5;250m    \u001b[39m\u001b[38;5;124;03m\"\"\"\u001b[39;00m\n\u001b[0;32m   4639\u001b[0m \u001b[38;5;124;03m    Invoke function on values of Series.\u001b[39;00m\n\u001b[0;32m   4640\u001b[0m \n\u001b[1;32m   (...)\u001b[0m\n\u001b[0;32m   4755\u001b[0m \u001b[38;5;124;03m    dtype: float64\u001b[39;00m\n\u001b[0;32m   4756\u001b[0m \u001b[38;5;124;03m    \"\"\"\u001b[39;00m\n\u001b[0;32m   4757\u001b[0m     \u001b[38;5;28;01mreturn\u001b[39;00m SeriesApply(\n\u001b[0;32m   4758\u001b[0m         \u001b[38;5;28mself\u001b[39m,\n\u001b[0;32m   4759\u001b[0m         func,\n\u001b[0;32m   4760\u001b[0m         convert_dtype\u001b[38;5;241m=\u001b[39mconvert_dtype,\n\u001b[0;32m   4761\u001b[0m         by_row\u001b[38;5;241m=\u001b[39mby_row,\n\u001b[0;32m   4762\u001b[0m         args\u001b[38;5;241m=\u001b[39margs,\n\u001b[0;32m   4763\u001b[0m         kwargs\u001b[38;5;241m=\u001b[39mkwargs,\n\u001b[1;32m-> 4764\u001b[0m     )\u001b[38;5;241m.\u001b[39mapply()\n",
      "File \u001b[1;32mc:\\Users\\Pranav\\anaconda3\\Lib\\site-packages\\pandas\\core\\apply.py:1209\u001b[0m, in \u001b[0;36mSeriesApply.apply\u001b[1;34m(self)\u001b[0m\n\u001b[0;32m   1206\u001b[0m     \u001b[38;5;28;01mreturn\u001b[39;00m \u001b[38;5;28mself\u001b[39m\u001b[38;5;241m.\u001b[39mapply_compat()\n\u001b[0;32m   1208\u001b[0m \u001b[38;5;66;03m# self.func is Callable\u001b[39;00m\n\u001b[1;32m-> 1209\u001b[0m \u001b[38;5;28;01mreturn\u001b[39;00m \u001b[38;5;28mself\u001b[39m\u001b[38;5;241m.\u001b[39mapply_standard()\n",
      "File \u001b[1;32mc:\\Users\\Pranav\\anaconda3\\Lib\\site-packages\\pandas\\core\\apply.py:1289\u001b[0m, in \u001b[0;36mSeriesApply.apply_standard\u001b[1;34m(self)\u001b[0m\n\u001b[0;32m   1283\u001b[0m \u001b[38;5;66;03m# row-wise access\u001b[39;00m\n\u001b[0;32m   1284\u001b[0m \u001b[38;5;66;03m# apply doesn't have a `na_action` keyword and for backward compat reasons\u001b[39;00m\n\u001b[0;32m   1285\u001b[0m \u001b[38;5;66;03m# we need to give `na_action=\"ignore\"` for categorical data.\u001b[39;00m\n\u001b[0;32m   1286\u001b[0m \u001b[38;5;66;03m# TODO: remove the `na_action=\"ignore\"` when that default has been changed in\u001b[39;00m\n\u001b[0;32m   1287\u001b[0m \u001b[38;5;66;03m#  Categorical (GH51645).\u001b[39;00m\n\u001b[0;32m   1288\u001b[0m action \u001b[38;5;241m=\u001b[39m \u001b[38;5;124m\"\u001b[39m\u001b[38;5;124mignore\u001b[39m\u001b[38;5;124m\"\u001b[39m \u001b[38;5;28;01mif\u001b[39;00m \u001b[38;5;28misinstance\u001b[39m(obj\u001b[38;5;241m.\u001b[39mdtype, CategoricalDtype) \u001b[38;5;28;01melse\u001b[39;00m \u001b[38;5;28;01mNone\u001b[39;00m\n\u001b[1;32m-> 1289\u001b[0m mapped \u001b[38;5;241m=\u001b[39m obj\u001b[38;5;241m.\u001b[39m_map_values(\n\u001b[0;32m   1290\u001b[0m     mapper\u001b[38;5;241m=\u001b[39mcurried, na_action\u001b[38;5;241m=\u001b[39maction, convert\u001b[38;5;241m=\u001b[39m\u001b[38;5;28mself\u001b[39m\u001b[38;5;241m.\u001b[39mconvert_dtype\n\u001b[0;32m   1291\u001b[0m )\n\u001b[0;32m   1293\u001b[0m \u001b[38;5;28;01mif\u001b[39;00m \u001b[38;5;28mlen\u001b[39m(mapped) \u001b[38;5;129;01mand\u001b[39;00m \u001b[38;5;28misinstance\u001b[39m(mapped[\u001b[38;5;241m0\u001b[39m], ABCSeries):\n\u001b[0;32m   1294\u001b[0m     \u001b[38;5;66;03m# GH#43986 Need to do list(mapped) in order to get treated as nested\u001b[39;00m\n\u001b[0;32m   1295\u001b[0m     \u001b[38;5;66;03m#  See also GH#25959 regarding EA support\u001b[39;00m\n\u001b[0;32m   1296\u001b[0m     \u001b[38;5;28;01mreturn\u001b[39;00m obj\u001b[38;5;241m.\u001b[39m_constructor_expanddim(\u001b[38;5;28mlist\u001b[39m(mapped), index\u001b[38;5;241m=\u001b[39mobj\u001b[38;5;241m.\u001b[39mindex)\n",
      "File \u001b[1;32mc:\\Users\\Pranav\\anaconda3\\Lib\\site-packages\\pandas\\core\\base.py:921\u001b[0m, in \u001b[0;36mIndexOpsMixin._map_values\u001b[1;34m(self, mapper, na_action, convert)\u001b[0m\n\u001b[0;32m    918\u001b[0m \u001b[38;5;28;01mif\u001b[39;00m \u001b[38;5;28misinstance\u001b[39m(arr, ExtensionArray):\n\u001b[0;32m    919\u001b[0m     \u001b[38;5;28;01mreturn\u001b[39;00m arr\u001b[38;5;241m.\u001b[39mmap(mapper, na_action\u001b[38;5;241m=\u001b[39mna_action)\n\u001b[1;32m--> 921\u001b[0m \u001b[38;5;28;01mreturn\u001b[39;00m algorithms\u001b[38;5;241m.\u001b[39mmap_array(arr, mapper, na_action\u001b[38;5;241m=\u001b[39mna_action, convert\u001b[38;5;241m=\u001b[39mconvert)\n",
      "File \u001b[1;32mc:\\Users\\Pranav\\anaconda3\\Lib\\site-packages\\pandas\\core\\algorithms.py:1814\u001b[0m, in \u001b[0;36mmap_array\u001b[1;34m(arr, mapper, na_action, convert)\u001b[0m\n\u001b[0;32m   1812\u001b[0m values \u001b[38;5;241m=\u001b[39m arr\u001b[38;5;241m.\u001b[39mastype(\u001b[38;5;28mobject\u001b[39m, copy\u001b[38;5;241m=\u001b[39m\u001b[38;5;28;01mFalse\u001b[39;00m)\n\u001b[0;32m   1813\u001b[0m \u001b[38;5;28;01mif\u001b[39;00m na_action \u001b[38;5;129;01mis\u001b[39;00m \u001b[38;5;28;01mNone\u001b[39;00m:\n\u001b[1;32m-> 1814\u001b[0m     \u001b[38;5;28;01mreturn\u001b[39;00m lib\u001b[38;5;241m.\u001b[39mmap_infer(values, mapper, convert\u001b[38;5;241m=\u001b[39mconvert)\n\u001b[0;32m   1815\u001b[0m \u001b[38;5;28;01melse\u001b[39;00m:\n\u001b[0;32m   1816\u001b[0m     \u001b[38;5;28;01mreturn\u001b[39;00m lib\u001b[38;5;241m.\u001b[39mmap_infer_mask(\n\u001b[0;32m   1817\u001b[0m         values, mapper, mask\u001b[38;5;241m=\u001b[39misna(values)\u001b[38;5;241m.\u001b[39mview(np\u001b[38;5;241m.\u001b[39muint8), convert\u001b[38;5;241m=\u001b[39mconvert\n\u001b[0;32m   1818\u001b[0m     )\n",
      "File \u001b[1;32mlib.pyx:2926\u001b[0m, in \u001b[0;36mpandas._libs.lib.map_infer\u001b[1;34m()\u001b[0m\n",
      "Cell \u001b[1;32mIn[23], line 3\u001b[0m, in \u001b[0;36mclean_data\u001b[1;34m(text)\u001b[0m\n\u001b[0;32m      1\u001b[0m \u001b[38;5;28;01mdef\u001b[39;00m \u001b[38;5;21mclean_data\u001b[39m(text):\n\u001b[1;32m----> 3\u001b[0m     text \u001b[38;5;241m=\u001b[39m re\u001b[38;5;241m.\u001b[39msub(\u001b[38;5;124mr\u001b[39m\u001b[38;5;124m\"\u001b[39m\u001b[38;5;124m[\u001b[39m\u001b[38;5;124m'\u001b[39m\u001b[38;5;124m \u001b[39m\u001b[38;5;124m'\u001b[39m\u001b[38;5;124m,()-->?¥]\u001b[39m\u001b[38;5;124m\"\u001b[39m,\u001b[38;5;124m\"\u001b[39m\u001b[38;5;124m\"\u001b[39m,text)\n\u001b[0;32m      4\u001b[0m     \u001b[38;5;28;01mreturn\u001b[39;00m text\n",
      "File \u001b[1;32mc:\\Users\\Pranav\\anaconda3\\Lib\\re\\__init__.py:185\u001b[0m, in \u001b[0;36msub\u001b[1;34m(pattern, repl, string, count, flags)\u001b[0m\n\u001b[0;32m    178\u001b[0m \u001b[38;5;28;01mdef\u001b[39;00m \u001b[38;5;21msub\u001b[39m(pattern, repl, string, count\u001b[38;5;241m=\u001b[39m\u001b[38;5;241m0\u001b[39m, flags\u001b[38;5;241m=\u001b[39m\u001b[38;5;241m0\u001b[39m):\n\u001b[0;32m    179\u001b[0m \u001b[38;5;250m    \u001b[39m\u001b[38;5;124;03m\"\"\"Return the string obtained by replacing the leftmost\u001b[39;00m\n\u001b[0;32m    180\u001b[0m \u001b[38;5;124;03m    non-overlapping occurrences of the pattern in string by the\u001b[39;00m\n\u001b[0;32m    181\u001b[0m \u001b[38;5;124;03m    replacement repl.  repl can be either a string or a callable;\u001b[39;00m\n\u001b[0;32m    182\u001b[0m \u001b[38;5;124;03m    if a string, backslash escapes in it are processed.  If it is\u001b[39;00m\n\u001b[0;32m    183\u001b[0m \u001b[38;5;124;03m    a callable, it's passed the Match object and must return\u001b[39;00m\n\u001b[0;32m    184\u001b[0m \u001b[38;5;124;03m    a replacement string to be used.\"\"\"\u001b[39;00m\n\u001b[1;32m--> 185\u001b[0m     \u001b[38;5;28;01mreturn\u001b[39;00m _compile(pattern, flags)\u001b[38;5;241m.\u001b[39msub(repl, string, count)\n",
      "\u001b[1;31mTypeError\u001b[0m: expected string or bytes-like object, got 'float'"
     ]
    }
   ],
   "source": [
    "def clean_data(text):\n",
    "\n",
    "    text = re.sub(r\"[' ',()-->?¥]\",\"\",text)\n",
    "    return text\n",
    "\n",
    "\n",
    "data['Solids']  = data['Solids'].apply(clean_data)\n",
    "data['Organic_carbon'] = data['Organic_carbon'].apply(clean_data)\n",
    "\n",
    "for i in data.columns:\n",
    "    data[i] = pd.to_numeric(data[i],errors= 'coerce')\n",
    "\n"
   ]
  },
  {
   "cell_type": "code",
   "execution_count": 24,
   "metadata": {},
   "outputs": [],
   "source": [
    "features = data.drop('Potability',axis = 1)\n",
    "target   = data['Potability'] "
   ]
  },
  {
   "cell_type": "code",
   "execution_count": 25,
   "metadata": {},
   "outputs": [],
   "source": [
    "def outlier_treatment(series):\n",
    "    q1 = np.percentile(features[series], 25)\n",
    "    q3 = np.percentile(features[series], 75)\n",
    "    iqr = q3 - q1\n",
    "    \n",
    "    for idx in range(len(features[series])):\n",
    "        elem = features.at[idx, series]\n",
    "        if elem > q3 + iqr * 1.5:\n",
    "            features.at[idx, series] = q3 + iqr * 1.5\n",
    "        elif elem < q1 - iqr * 1.5:\n",
    "            features.at[idx, series] = q1 - iqr * 1.5\n",
    "    \n",
    "    return features[series]\n",
    "\n",
    "\n",
    "for i in features:\n",
    "    data[i] = outlier_treatment(i)"
   ]
  },
  {
   "cell_type": "code",
   "execution_count": 26,
   "metadata": {},
   "outputs": [],
   "source": [
    "columns = ['ph', 'Hardness', 'Solids', 'Chloramines', 'Sulfate', 'Conductivity',\n",
    "       'Organic_carbon', 'Trihalomethanes', 'Turbidity']\n",
    "\n",
    "pipeline = Pipeline(steps=[\n",
    "                ('Impute',SimpleImputer(strategy='median')),\n",
    "                ('Scaling',MinMaxScaler())\n",
    "\n",
    "            ])\n",
    "\n",
    "prepocessor = ColumnTransformer([('Impute',SimpleImputer(strategy='median'),features.columns),\n",
    "                                 ('Scaling',MinMaxScaler(),features.columns)\n",
    "                                 ])\n"
   ]
  },
  {
   "cell_type": "code",
   "execution_count": 27,
   "metadata": {},
   "outputs": [
    {
     "data": {
      "text/plain": [
       "sklearn.compose._column_transformer.ColumnTransformer"
      ]
     },
     "execution_count": 27,
     "metadata": {},
     "output_type": "execute_result"
    }
   ],
   "source": [
    "type(prepocessor)"
   ]
  },
  {
   "cell_type": "code",
   "execution_count": null,
   "metadata": {},
   "outputs": [],
   "source": [
    "\n",
    "features_array = prepocessor.fit_transform(features)"
   ]
  },
  {
   "cell_type": "code",
   "execution_count": null,
   "metadata": {},
   "outputs": [
    {
     "name": "stdout",
     "output_type": "stream",
     "text": [
      "<class 'pandas.core.series.Series'>\n",
      "RangeIndex: 3276 entries, 0 to 3275\n",
      "Series name: Potability\n",
      "Non-Null Count  Dtype\n",
      "--------------  -----\n",
      "3276 non-null   int64\n",
      "dtypes: int64(1)\n",
      "memory usage: 25.7 KB\n"
     ]
    }
   ],
   "source": [
    "target.info()"
   ]
  },
  {
   "cell_type": "code",
   "execution_count": null,
   "metadata": {},
   "outputs": [
    {
     "data": {
      "text/plain": [
       "Index(['ph', 'Hardness', 'Solids', 'Chloramines', 'Sulfate', 'Conductivity',\n",
       "       'Organic_carbon', 'Trihalomethanes', 'Turbidity', 'Potability'],\n",
       "      dtype='object')"
      ]
     },
     "execution_count": 10,
     "metadata": {},
     "output_type": "execute_result"
    }
   ],
   "source": [
    "data.columns"
   ]
  },
  {
   "cell_type": "code",
   "execution_count": null,
   "metadata": {},
   "outputs": [
    {
     "data": {
      "text/plain": [
       "array(11)"
      ]
     },
     "execution_count": 11,
     "metadata": {},
     "output_type": "execute_result"
    }
   ],
   "source": [
    "np.array(11)"
   ]
  },
  {
   "cell_type": "code",
   "execution_count": 33,
   "metadata": {},
   "outputs": [],
   "source": [
    "def get_preprocessor():\n",
    "\n",
    "        \n",
    "\n",
    "        try:\n",
    "            columns = ['ph', 'Hardness', 'Solids', 'Chloramines', 'Sulfate', 'Conductivity',\n",
    "       'Organic_carbon', 'Trihalomethanes', 'Turbidity', 'Potability']\n",
    "\n",
    "            pipeline = Pipeline(steps=[\n",
    "                \n",
    "                ('Impute',SimpleImputer(strategy='median')),\n",
    "                ('Scaling',MinMaxScaler())\n",
    "\n",
    "            ])\n",
    "\n",
    "            prepocessor = ColumnTransformer([\n",
    "                'pipeline', pipeline ,columns\n",
    "                                 ])\n",
    "\n",
    "            logging.info('Created Preprocessor object')\n",
    "\n",
    "            return prepocessor\n",
    "\n",
    "            \n",
    "        except Exception as e:\n",
    "            raise CustomException(e,sys)\n"
   ]
  },
  {
   "cell_type": "code",
   "execution_count": 34,
   "metadata": {},
   "outputs": [
    {
     "data": {
      "text/plain": [
       "sklearn.compose._column_transformer.ColumnTransformer"
      ]
     },
     "execution_count": 34,
     "metadata": {},
     "output_type": "execute_result"
    }
   ],
   "source": [
    "pre_obj = get_preprocessor()\n",
    "type(pre_obj) "
   ]
  },
  {
   "cell_type": "code",
   "execution_count": null,
   "metadata": {},
   "outputs": [],
   "source": []
  }
 ],
 "metadata": {
  "kernelspec": {
   "display_name": "Python 3",
   "language": "python",
   "name": "python3"
  },
  "language_info": {
   "codemirror_mode": {
    "name": "ipython",
    "version": 3
   },
   "file_extension": ".py",
   "mimetype": "text/x-python",
   "name": "python",
   "nbconvert_exporter": "python",
   "pygments_lexer": "ipython3",
   "version": "3.11.7"
  }
 },
 "nbformat": 4,
 "nbformat_minor": 2
}
